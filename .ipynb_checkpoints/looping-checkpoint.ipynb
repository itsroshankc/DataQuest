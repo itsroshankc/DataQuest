{
 "cells": [
  {
   "cell_type": "markdown",
   "id": "6146a7e3-422f-4640-89ee-d6df9eb2279e",
   "metadata": {},
   "source": [
    "for loops"
   ]
  },
  {
   "cell_type": "code",
   "execution_count": 1,
   "id": "4516545c-4da3-4ea0-8701-2f96367aa5fc",
   "metadata": {},
   "outputs": [
    {
     "name": "stdout",
     "output_type": "stream",
     "text": [
      "0\n",
      "1\n",
      "2\n",
      "3\n",
      "4\n",
      "5\n",
      "6\n",
      "7\n",
      "8\n"
     ]
    }
   ],
   "source": [
    "for i in range(9):\n",
    "    print(i)"
   ]
  },
  {
   "cell_type": "code",
   "execution_count": 8,
   "id": "c858e027-989a-4fdf-b0cb-cb95291f13eb",
   "metadata": {},
   "outputs": [
    {
     "name": "stdout",
     "output_type": "stream",
     "text": [
      "1\n",
      "2\n",
      "3\n",
      "4\n",
      "5\n",
      "6\n"
     ]
    }
   ],
   "source": [
    "my_list = [1,2,3,4,5,6]\n",
    "my_list1 = ['apple','ball','cat',1,2,3]\n",
    "my_list2 = \"lumbini_city_college\"\n",
    "for i in my_list:\n",
    "    print(i)\n"
   ]
  },
  {
   "cell_type": "code",
   "execution_count": 3,
   "id": "809fcbb8-0306-4324-ada7-94d3d560f0dd",
   "metadata": {},
   "outputs": [
    {
     "name": "stdin",
     "output_type": "stream",
     "text": [
      "Enter a char: 1\n"
     ]
    },
    {
     "name": "stdout",
     "output_type": "stream",
     "text": [
      "found\n"
     ]
    }
   ],
   "source": [
    "x = int(input(\"Enter a char:\"))\n",
    "y = [1,2,3]\n",
    "found = 0\n",
    "for i in y :\n",
    "    if x == i: \n",
    "        found = 1\n",
    "\n",
    "if(found == 0):\n",
    "    print('notfound')\n",
    "else:\n",
    "    print('found')"
   ]
  },
  {
   "cell_type": "code",
   "execution_count": 4,
   "id": "a5a79bcc-be4d-4d09-98ff-789884833421",
   "metadata": {},
   "outputs": [
    {
     "name": "stdin",
     "output_type": "stream",
     "text": [
      "Enter value of loop? 3\n"
     ]
    },
    {
     "name": "stdout",
     "output_type": "stream",
     "text": [
      "3 2 1 \n",
      "Iteration is over.\n"
     ]
    }
   ],
   "source": [
    "x = int(input(\"Enter value of loop?\"))\n",
    "while x>0:\n",
    "    print(x)\n",
    "    x-=1\n",
    "else:\n",
    "    print(\"\\nIteration is over.\")\n",
    "    "
   ]
  },
  {
   "cell_type": "code",
   "execution_count": null,
   "id": "3e0ad1e3-f9a5-4c95-ae67-5f6b13ac0c6c",
   "metadata": {},
   "outputs": [],
   "source": []
  }
 ],
 "metadata": {
  "kernelspec": {
   "display_name": "Python 3 (ipykernel)",
   "language": "python",
   "name": "python3"
  },
  "language_info": {
   "codemirror_mode": {
    "name": "ipython",
    "version": 3
   },
   "file_extension": ".py",
   "mimetype": "text/x-python",
   "name": "python",
   "nbconvert_exporter": "python",
   "pygments_lexer": "ipython3",
   "version": "3.10.9"
  }
 },
 "nbformat": 4,
 "nbformat_minor": 5
}
